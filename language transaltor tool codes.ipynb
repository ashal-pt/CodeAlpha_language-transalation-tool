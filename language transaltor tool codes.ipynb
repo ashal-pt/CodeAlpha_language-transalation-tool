{
 "cells": [
  {
   "cell_type": "code",
   "execution_count": 1,
   "id": "6cc38792",
   "metadata": {},
   "outputs": [],
   "source": [
    "from tkinter import *\n",
    "from tkinter import ttk\n",
    "from googletrans import Translator, LANGUAGES\n",
    "\n",
    "#Importing libraries"
   ]
  },
  {
   "cell_type": "code",
   "execution_count": 2,
   "id": "3897854c",
   "metadata": {},
   "outputs": [],
   "source": [
    "from tkinter import Tk, Label, Entry\n",
    "\n",
    "root = Tk()\n",
    "root.geometry('1100x320')\n",
    "root.resizable(0, 0)\n",
    "\n",
    "\n",
    "root['bg'] = 'yellow'\n",
    "\n",
    "root.title(\"Language Translation Tool\")\n",
    "Label(root, text=\"Language Translator\", font=\"arial 13 bold\", bg='skyblue').pack()\n",
    "\n",
    "#creating GUI\n",
    "\n"
   ]
  },
  {
   "cell_type": "code",
   "execution_count": 3,
   "id": "6b5e146e",
   "metadata": {},
   "outputs": [],
   "source": [
    "Label(root,text = \"Enter Text\", font = 'arial 13 bold', bg ='white smoke').place(x=165, y=90)\n",
    "\n",
    "#creating textbox for input"
   ]
  },
  {
   "cell_type": "code",
   "execution_count": 4,
   "id": "9bfa92e1",
   "metadata": {
    "scrolled": true
   },
   "outputs": [
    {
     "data": {
      "text/plain": [
       "''"
      ]
     },
     "execution_count": 4,
     "metadata": {},
     "output_type": "execute_result"
    }
   ],
   "source": [
    "Input_text = Entry(root, width= 60)\n",
    "Input_text.place(x=30,y = 130)\n",
    "Input_text.get()\n",
    "\n",
    "#creating  textbox for input\n"
   ]
  },
  {
   "cell_type": "code",
   "execution_count": 5,
   "id": "3f37c372",
   "metadata": {},
   "outputs": [],
   "source": [
    "\n",
    "Label(root, text = \"Output\", font = 'arial 13 bold', bg ='white smoke').place(x=780, y=90)\n",
    "Output_text = Text(root, font= 'arial 10', height = 5, wrap = WORD, padx= 5, pady= 5, width= 50)\n",
    "Output_text.place(x= 600, y = 130)\n",
    "\n",
    "#creating textbox for output\n",
    "\n",
    "language = list(LANGUAGES.values())\n",
    "\n",
    "dest_lang = ttk. Combobox(root, values= language, width = 22)\n",
    "dest_lang.place(x=130, y=180)\n",
    "dest_lang.set(' choose language')\n",
    "\n",
    "def Translate():\n",
    "    translator = Translator()\n",
    "    translated= translator.translate(text=Input_text.get(), dest = dest_lang.get())\n",
    "    Output_text.delete(1.0, END)\n",
    "    Output_text.insert(END, translated.text)\n",
    "\n",
    "\n",
    "trans_btn= Button(root, text= 'Translate', font= 'arial 12 bold', pady = 5, command= Translate, bg= 'orange', activebackground= 'green')\n",
    "trans_btn.place(x= 445, y=188)\n",
    "\n",
    "#Creating a function to fetch data\n",
    "root.mainloop()"
   ]
  },
  {
   "cell_type": "code",
   "execution_count": null,
   "id": "c33dc73e",
   "metadata": {},
   "outputs": [],
   "source": []
  }
 ],
 "metadata": {
  "kernelspec": {
   "display_name": "Python 3 (ipykernel)",
   "language": "python",
   "name": "python3"
  },
  "language_info": {
   "codemirror_mode": {
    "name": "ipython",
    "version": 3
   },
   "file_extension": ".py",
   "mimetype": "text/x-python",
   "name": "python",
   "nbconvert_exporter": "python",
   "pygments_lexer": "ipython3",
   "version": "3.9.12"
  }
 },
 "nbformat": 4,
 "nbformat_minor": 5
}
